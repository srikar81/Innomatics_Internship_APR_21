{
 "cells": [
  {
   "cell_type": "markdown",
   "metadata": {},
   "source": [
    "# Task - 4 (Python Programming)"
   ]
  },
  {
   "cell_type": "code",
   "execution_count": null,
   "metadata": {},
   "outputs": [],
   "source": [
    "# Question1 sWAP cASE\n",
    "def swap_case(s):\n",
    "    swapped = ''.join([i.upper() if i.islower() == True else i.lower()for i in s ])\n",
    "    return swapped"
   ]
  },
  {
   "cell_type": "code",
   "execution_count": null,
   "metadata": {},
   "outputs": [],
   "source": [
    "# Question2 String Split and Join\n",
    "def split_and_join(line):\n",
    "    # write your code here\n",
    "    return \"-\".join(line.split())"
   ]
  },
  {
   "cell_type": "code",
   "execution_count": null,
   "metadata": {},
   "outputs": [],
   "source": [
    "# Question3 What's Your Name?\n",
    "#\n",
    "# Complete the 'print_full_name' function below.\n",
    "#\n",
    "# The function is expected to return a STRING.\n",
    "# The function accepts following parameters:\n",
    "#  1. STRING first\n",
    "#  2. STRING last\n",
    "#\n",
    "\n",
    "def print_full_name(first, last):\n",
    "    # Write your code here\n",
    "    return print(\"Hello {} {}! You just delved into python.\".format(first,last))\n",
    "if __name__ == '__main__':\n",
    "    first_name = input()\n",
    "    last_name = input()\n",
    "    print_full_name(first_name, last_name)"
   ]
  },
  {
   "cell_type": "code",
   "execution_count": null,
   "metadata": {},
   "outputs": [],
   "source": [
    "# Question4 Mutations\n",
    "def mutate_string(string, position, character):\n",
    "    l = list(string)\n",
    "    l[position] = character\n",
    "    new_string = \"\".join(l)\n",
    "    return new_string\n",
    "\n",
    "if __name__ == '__main__':\n",
    "    s = input()\n",
    "    i, c = input().split()\n",
    "    s_new = mutate_string(s, int(i), c)\n",
    "    print(s_new)"
   ]
  },
  {
   "cell_type": "code",
   "execution_count": null,
   "metadata": {},
   "outputs": [],
   "source": [
    "# Question5 Find a string\n",
    "def count_substring(string, sub_string):\n",
    "    k=0\n",
    "    for i in range(len(string)):\n",
    "        if string[i:].startswith(sub_string)==1:\n",
    "            k += 1\n",
    "    return k\n",
    "\n",
    "\n",
    "if __name__ == '__main__':\n",
    "    string = input().strip()\n",
    "    sub_string = input().strip()\n",
    "    \n",
    "    count = count_substring(string, sub_string)\n",
    "    print(count)"
   ]
  },
  {
   "cell_type": "code",
   "execution_count": null,
   "metadata": {},
   "outputs": [],
   "source": [
    "# Question6 String Validators\n",
    "if __name__ == '__main__':\n",
    "    s = input()\n",
    "    funs = [\"isalnum()\",\"isalpha()\",\"isdigit()\",\"islower()\",\"isupper()\"]\n",
    "    for i in range(5):\n",
    "        fun = str(funs[i])\n",
    "        #string = \"s.\"+fun\n",
    "        l =list(s)\n",
    "        for i in range(len(l)):\n",
    "            bit =str(l[i])\n",
    "            if eval(\"\\'\"+str(bit)+\"\\'\"+\".\"+fun) ==1:\n",
    "                p=1\n",
    "                break\n",
    "            else:\n",
    "                p=0\n",
    "        if p ==1:\n",
    "            print(True)\n",
    "        else: \n",
    "            print(False)"
   ]
  },
  {
   "cell_type": "code",
   "execution_count": null,
   "metadata": {},
   "outputs": [],
   "source": [
    "# Question7 Text Alignment\n",
    "#Replace all ljust with rjust, ljust or center. \n",
    "\n",
    "thickness = int(input()) #This must be an odd number\n",
    "c = 'H'\n",
    "\n",
    "#Top Cone\n",
    "for i in range(thickness):\n",
    "    print((c*i).rjust(thickness-1)+c+(c*i).ljust(thickness-1))\n",
    "\n",
    "#Top Pillars\n",
    "for i in range(thickness+1):\n",
    "    print((c*thickness).center(thickness*2)+(c*thickness).center(thickness*6))\n",
    "\n",
    "#Middle Belt\n",
    "for i in range((thickness+1)//2):\n",
    "    print((c*thickness*5).center(thickness*6))    \n",
    "\n",
    "#Bottom Pillars\n",
    "for i in range(thickness+1):\n",
    "    print((c*thickness).center(thickness*2)+(c*thickness).center(thickness*6))    \n",
    "\n",
    "#Bottom Cone\n",
    "for i in range(thickness):\n",
    "    print(((c*(thickness-i-1)).rjust(thickness)+c+(c*(thickness-i-1)).ljust(thickness)).rjust(thickness*6))\n"
   ]
  },
  {
   "cell_type": "code",
   "execution_count": null,
   "metadata": {},
   "outputs": [],
   "source": [
    "# Question8 Text Wrap\n",
    "import textwrap\n",
    "\n",
    "def wrap(string, max_width):\n",
    "    return \"\\n\".join(textwrap.wrap(string,max_width))\n",
    "\n",
    "if __name__ == '__main__':\n",
    "    string, max_width = input(), int(input())\n",
    "    result = wrap(string, max_width)\n",
    "    print(result)"
   ]
  },
  {
   "cell_type": "code",
   "execution_count": null,
   "metadata": {},
   "outputs": [],
   "source": [
    "# Question9 Designer Door Mat\n",
    "# Enter your code here. Read input from STDIN. Print output to STDOUT\n",
    "dim = (input().split())\n",
    "n,m= int(dim[0]),int(dim[1])\n",
    "c=\".|.\"\n",
    "for i in range(n):\n",
    "    if i < n/2-1:    \n",
    "        print( (c*(2*i+1)).center(m,\"-\"))\n",
    "    elif i == int(n/2):\n",
    "        print( \"WELCOME\".center(m,\"-\"))\n",
    "    elif i > n/2:\n",
    "        print( (c*(2*(n-i)-1)).center(m,\"-\"))"
   ]
  },
  {
   "cell_type": "code",
   "execution_count": null,
   "metadata": {},
   "outputs": [],
   "source": [
    "# Question10 String Formatting\n",
    "def print_formatted(number):\n",
    "    width = len(\"{0:b}\".format(number))\n",
    "\n",
    "    for i in range(1, number + 1):\n",
    "        print(\"{0:{w}d} {0:{w}o} {0:{w}X} {0:{w}b}\".format(i, w = width))\n",
    "\n",
    "if __name__ == '__main__':\n",
    "    n = int(input())\n",
    "    print_formatted(n)"
   ]
  },
  {
   "cell_type": "code",
   "execution_count": null,
   "metadata": {},
   "outputs": [],
   "source": [
    "# Question11 Alphabet Rangoli\n",
    "def print_rangoli(N):\n",
    "    # your code goes here\n",
    "    for i in range (-(N-1),N):\n",
    "        for j in range (-2*(N-1),2*(N-1)+1):\n",
    "            if j%2==0 and (abs(j//2)+abs(i))< N:\n",
    "                print (chr(abs(j//2)+abs(i)+ord('a')),end='')\n",
    "            else:\n",
    "                print('-',end='')\n",
    "        print()    \n",
    "    \n",
    "\n",
    "if __name__ == '__main__':\n",
    "    n = int(input())\n",
    "    print_rangoli(n)"
   ]
  },
  {
   "cell_type": "code",
   "execution_count": null,
   "metadata": {},
   "outputs": [],
   "source": [
    "# Question12 Capitalize!\n",
    "#!/bin/python3\n",
    "\n",
    "import math\n",
    "import os\n",
    "import random\n",
    "import re\n",
    "import sys\n",
    "\n",
    "# Complete the solve function below.\n",
    "def solve(s):\n",
    "    k = s.split(' ')\n",
    "    output = ''\n",
    "    for i in k:\n",
    "        if i.isalpha():\n",
    "            output = output + i.title() + ' '\n",
    "        else:\n",
    "            output = output + i + ' '\n",
    "    return output\n",
    "if __name__ == '__main__':\n",
    "    fptr = open(os.environ['OUTPUT_PATH'], 'w')\n",
    "\n",
    "    s = input()\n",
    "\n",
    "    result = solve(s)\n",
    "\n",
    "    fptr.write(result + '\\n')\n",
    "\n",
    "    fptr.close()"
   ]
  },
  {
   "cell_type": "code",
   "execution_count": null,
   "metadata": {},
   "outputs": [],
   "source": [
    "# Question13 The Minion Game\n",
    "def minion_game(string):\n",
    "    string = string.strip().upper()\n",
    "    Kevin, Stuart = 0, 0\n",
    "    for i in range(len(string)):\n",
    "        if string[i] in \"AEIOU\":\n",
    "            Kevin += len(string) - i\n",
    "        else:\n",
    "            Stuart += len(string) - i\n",
    "    if Stuart>Kevin:\n",
    "        print(f'Stuart {Stuart}')\n",
    "    elif Stuart < Kevin:\n",
    "        print(f'Kevin {Kevin}')\n",
    "    else:\n",
    "        print('Draw')\n",
    "if __name__ == '__main__':\n",
    "    s = input()\n",
    "    minion_game(s)"
   ]
  },
  {
   "cell_type": "code",
   "execution_count": null,
   "metadata": {},
   "outputs": [],
   "source": [
    "# Question14 Merge the Tools!\n",
    "def merge_the_tools(string, k):\n",
    "    # your code goes here\n",
    "    A1 = []\n",
    "    L1 = []\n",
    "    F1 = []\n",
    "    m = len(string) / k\n",
    "    for i in range(0, len(string), k):\n",
    "        A1.append(string[i:i + k])\n",
    "    for i in A1:\n",
    "        c = list(i)\n",
    "        L1.clear()\n",
    "        for j in c:\n",
    "            if j not in L1:\n",
    "                L1.append(j)\n",
    "        F1.append(list(L1))\n",
    "    for i in F1:\n",
    "        for j in i:\n",
    "            print(f'{j}',end='')\n",
    "        print()\n",
    "if __name__ == '__main__':\n",
    "    string, k = input(), int(input())\n",
    "    merge_the_tools(string, k)"
   ]
  }
 ],
 "metadata": {
  "kernelspec": {
   "display_name": "Python 3",
   "language": "python",
   "name": "python3"
  },
  "language_info": {
   "codemirror_mode": {
    "name": "ipython",
    "version": 3
   },
   "file_extension": ".py",
   "mimetype": "text/x-python",
   "name": "python",
   "nbconvert_exporter": "python",
   "pygments_lexer": "ipython3",
   "version": "3.7.6"
  }
 },
 "nbformat": 4,
 "nbformat_minor": 4
}
