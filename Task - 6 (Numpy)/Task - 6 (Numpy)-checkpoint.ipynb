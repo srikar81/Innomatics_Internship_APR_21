{
 "cells": [
  {
   "cell_type": "code",
   "execution_count": null,
   "metadata": {},
   "outputs": [],
   "source": [
    "#Question1 Arrays\n",
    "port numpy\n",
    "\n",
    "def arrays(arr):\n",
    "    # complete this function\n",
    "    # use numpy.array\n",
    "    return numpy.flip(numpy.array(arr,float))\n",
    "\n",
    "arr = input().strip().split(' ')\n",
    "result = arrays(arr)\n",
    "print(result)"
   ]
  },
  {
   "cell_type": "code",
   "execution_count": null,
   "metadata": {},
   "outputs": [],
   "source": [
    "#Question2 Shape and Reshape\n",
    "import numpy\n",
    "n= input().split()\n",
    "print(numpy.reshape(numpy.array(n,int),(3,3)))"
   ]
  },
  {
   "cell_type": "code",
   "execution_count": null,
   "metadata": {},
   "outputs": [],
   "source": [
    "#Question3 Transpose and Flatten\n",
    "import numpy as np\n",
    "n,m =list(map(int,input().split()))\n",
    "l=[]\n",
    "for i in range(n):\n",
    "    l.extend(input().split())\n",
    "i = [int(x) for x in l]\n",
    "print(np.array(i).reshape(n,m).transpose(),np.array(i).flatten(),sep=\"\\n\")"
   ]
  },
  {
   "cell_type": "code",
   "execution_count": null,
   "metadata": {},
   "outputs": [],
   "source": [
    "#Question4 Concatenate\n",
    "import numpy as np\n",
    "n,m,p = map(int, input().split())\n",
    "a = np.array([input().strip().split() for _ in range(n)],int)\n",
    "b = np.array([input().strip().split() for _ in range(m)],int)\n",
    "print(np.concatenate((a,b),axis=0))"
   ]
  },
  {
   "cell_type": "code",
   "execution_count": null,
   "metadata": {},
   "outputs": [],
   "source": [
    "#Question5 Zeros and Ones\n",
    "import numpy as np\n",
    "k = list(map(int,input().split()))\n",
    "print(np.zeros(tuple(k),dtype = np.int))\n",
    "print(np.ones(tuple(k),dtype = np.int))"
   ]
  },
  {
   "cell_type": "code",
   "execution_count": null,
   "metadata": {},
   "outputs": [],
   "source": [
    "#Question6 Eye and Identity\n",
    "import numpy as np\n",
    "np.set_printoptions(legacy=\"1.13\")\n",
    "n,m = map(int, input().split())\n",
    "if n==m:\n",
    "    print (np.identity(n))\n",
    "else:\n",
    "    print (np.eye(n,m,k=0))"
   ]
  },
  {
   "cell_type": "code",
   "execution_count": null,
   "metadata": {},
   "outputs": [],
   "source": [
    "#Question7 Array Mathematics\n",
    "import numpy as np\n",
    "n,m = map(int, input().split())\n",
    "a,b = [(np.array([input().strip().split() for _ in range(n)],int)) for _ in range(2)] \n",
    "print(a+b,a-b,a*b,a//b,a%b,a**b,sep=\"\\n\")"
   ]
  },
  {
   "cell_type": "code",
   "execution_count": null,
   "metadata": {},
   "outputs": [],
   "source": [
    "#Question8 Floor, Ceil and Rint\n",
    "import numpy as np\n",
    "np.set_printoptions(legacy=\"1.13\")\n",
    "arr = np.array(input().strip().split(),  float)\n",
    "print(np.floor(arr),np.ceil(arr),np.rint(arr),sep=\"\\n\")"
   ]
  },
  {
   "cell_type": "code",
   "execution_count": null,
   "metadata": {},
   "outputs": [],
   "source": [
    "#Question9 Sum and Prod\n",
    "import numpy as np\n",
    "n,m = map(int, input().split())\n",
    "arr = np.array([input().strip().split() for _ in range(n)],int)\n",
    "print(np.prod(np.sum(arr,axis=0)))"
   ]
  },
  {
   "cell_type": "code",
   "execution_count": null,
   "metadata": {},
   "outputs": [],
   "source": [
    "#Question10 Min and Max\n",
    "import numpy as np\n",
    "n,m = map(int,input().strip().split())\n",
    "arr = np.array([input().strip().split() for _ in range(n)],int)\n",
    "print(np.max(np.min(arr,axis=1)))"
   ]
  },
  {
   "cell_type": "code",
   "execution_count": null,
   "metadata": {},
   "outputs": [],
   "source": [
    "#Question11 Dot and Cross\n",
    "import numpy as np\n",
    "n = int(input())\n",
    "a,b = [(np.array([input().strip().split() for _ in range(n)],int)) for _ in range(2)]\n",
    "print(np.dot(a,b))"
   ]
  },
  {
   "cell_type": "code",
   "execution_count": null,
   "metadata": {},
   "outputs": [],
   "source": [
    "#Question12 Inner and Outer\n",
    "import numpy as np\n",
    "a,b = [np.array(input().strip().split(),int) for _ in range(2)]\n",
    "print(np.inner(a,b),np.outer(a,b),sep=\"\\n\")"
   ]
  },
  {
   "cell_type": "code",
   "execution_count": null,
   "metadata": {},
   "outputs": [],
   "source": [
    "#Question13 Polynomials\n",
    "import numpy as np\n",
    "arr = np.array(input().strip().split(),dtype=float)\n",
    "x = float(input())\n",
    "print(np.polyval(arr,x))"
   ]
  },
  {
   "cell_type": "code",
   "execution_count": null,
   "metadata": {},
   "outputs": [],
   "source": [
    "#Question14 Linear Algebra\n",
    "import numpy as np\n",
    "np.set_printoptions(legacy='1.13')\n",
    "n =int(input())\n",
    "arr = np.array([input().strip().split() for i in range(n)],float)\n",
    "print(np.linalg.det(arr))"
   ]
  },
  {
   "cell_type": "code",
   "execution_count": null,
   "metadata": {},
   "outputs": [],
   "source": [
    "#Question15 Mean, Var, and Std\n",
    "import numpy as np \n",
    "n,m = map(int, input().split())\n",
    "b = []\n",
    "for i in range(n):\n",
    "    a = list(map(int, input().split()))\n",
    "    b.append(a)\n",
    "b = np.array(b)\n",
    "np.set_printoptions(legacy='1.13')\n",
    "print(np.mean(b, axis = 1))\n",
    "print(np.var(b, axis = 0))\n",
    "print(np.std(b))"
   ]
  }
 ],
 "metadata": {
  "kernelspec": {
   "display_name": "Python 3",
   "language": "python",
   "name": "python3"
  },
  "language_info": {
   "codemirror_mode": {
    "name": "ipython",
    "version": 3
   },
   "file_extension": ".py",
   "mimetype": "text/x-python",
   "name": "python",
   "nbconvert_exporter": "python",
   "pygments_lexer": "ipython3",
   "version": "3.7.6"
  }
 },
 "nbformat": 4,
 "nbformat_minor": 4
}
