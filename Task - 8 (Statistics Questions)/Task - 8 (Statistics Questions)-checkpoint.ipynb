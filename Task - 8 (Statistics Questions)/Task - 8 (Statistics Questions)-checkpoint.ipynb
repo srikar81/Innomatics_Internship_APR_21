{
 "cells": [
  {
   "cell_type": "code",
   "execution_count": 1,
   "metadata": {},
   "outputs": [
    {
     "name": "stdout",
     "output_type": "stream",
     "text": [
      "1.09 1\n",
      "0.696\n"
     ]
    }
   ],
   "source": [
    "#Problem1  Binomial Distribution I\n",
    "a,b = map(float,input().strip().split())\n",
    "o=a/b\n",
    "def factorial(n):\n",
    "    return 1 if n==0 else n*factorial(n-1)\n",
    "def comb(n,k):\n",
    "    return factorial(n)/(factorial(n-k)*factorial(k))\n",
    "def bd(x,n,p):\n",
    "    return comb(n,x)* p**(x) * (1-p)**(n-x)\n",
    "print(round(sum([bd(i, 6, o / (1 + o)) for i in range(3, 7)]), 3))"
   ]
  },
  {
   "cell_type": "code",
   "execution_count": 2,
   "metadata": {},
   "outputs": [
    {
     "name": "stdout",
     "output_type": "stream",
     "text": [
      "12 10\n",
      "0.891\n",
      "0.342\n"
     ]
    }
   ],
   "source": [
    "#Problem2 Binomial Distribution II\n",
    "import math\n",
    "p,b =map(float, input().strip().split())\n",
    "def f(n,x):\n",
    "    return math.factorial(n)/(math.factorial(n-x)*math.factorial(x))\n",
    "def bd(x,n,s):\n",
    "    return f(n,x) * s**(x) * (1-s)**(n-x)\n",
    "print(round(sum([bd(x,b,p/100) for x in range(0,3)]),3))\n",
    "print(round(sum([bd(x,b,p/100) for x in range(2,11)]),3))"
   ]
  },
  {
   "cell_type": "code",
   "execution_count": 3,
   "metadata": {},
   "outputs": [
    {
     "name": "stdout",
     "output_type": "stream",
     "text": [
      "20 2\n",
      "19.5\n",
      "20 22\n",
      "0.401\n",
      "0.341\n"
     ]
    }
   ],
   "source": [
    "#Problem3 Normal Distribution I\n",
    "import math\n",
    "m, std = map(float, input().strip().split())\n",
    "q1 = float(input())\n",
    "q2 =list(map(float,input().strip().split()))\n",
    "def cdf(x,mean,std_d):\n",
    "    return 0.5 * (1 + math.erf((x - mean) / (std_d * (2 ** 0.5))))\n",
    "print(round(cdf(q1,m,std),3))\n",
    "print(round(cdf(q2[1],m,std) - cdf(q2[0],m,std),3))"
   ]
  },
  {
   "cell_type": "code",
   "execution_count": 4,
   "metadata": {},
   "outputs": [
    {
     "name": "stdout",
     "output_type": "stream",
     "text": [
      "70 10\n",
      "80\n",
      "60\n",
      "15.87\n",
      "84.13\n",
      "15.87\n"
     ]
    }
   ],
   "source": [
    "#Problem4 Normal Distribution II\n",
    "m, std = map(float, input().strip().split())\n",
    "q1 = int(input())\n",
    "q2 =int(input())\n",
    "def cdf(x,mean,std_d):\n",
    "    return 0.5 * (1 + math.erf((x - mean) / (std_d * (2 ** 0.5))))\n",
    "print(round((1-cdf(q1,m,std))*100,2))\n",
    "print(round((1-cdf(q2,m,std))*100,2))\n",
    "print(round((cdf(q2,m,std))*100,2))"
   ]
  },
  {
   "cell_type": "code",
   "execution_count": 5,
   "metadata": {},
   "outputs": [
    {
     "name": "stdout",
     "output_type": "stream",
     "text": [
      "9800\n",
      "49\n",
      "205\n",
      "15\n",
      "0.00982\n"
     ]
    }
   ],
   "source": [
    "#Problem5 The Central Limit Theorem I\n",
    "max_weight,boxes,m,std=map(int, [input() for _ in range(4)])\n",
    "cltm,cltstd = boxes*m,(boxes**0.5)*std\n",
    "def cdf(x,mean,std_d):\n",
    "    return 0.5 * (1 + math.erf((x - mean) / (std_d * (2 ** 0.5))))\n",
    "print(round(cdf(max_weight,cltm,cltstd),5))"
   ]
  },
  {
   "cell_type": "code",
   "execution_count": 6,
   "metadata": {},
   "outputs": [
    {
     "name": "stdout",
     "output_type": "stream",
     "text": [
      "250\n",
      "100\n",
      "2.4\n",
      "2.0\n",
      "0.6915\n"
     ]
    }
   ],
   "source": [
    "#Problem6 The Central Limit Theorem II\n",
    "max_tickets,people,m,std=map(float, [input() for _ in range(4)])\n",
    "cltm,cltstd = people*m,(people**0.5)*std\n",
    "def cdf(x,mean,std_d):\n",
    "    return 0.5 * (1 + math.erf((x - mean) / (std_d * (2 ** 0.5))))\n",
    "print(round(cdf(max_tickets,cltm,cltstd),4))"
   ]
  },
  {
   "cell_type": "code",
   "execution_count": 7,
   "metadata": {},
   "outputs": [
    {
     "name": "stdout",
     "output_type": "stream",
     "text": [
      "100\n",
      "500\n",
      "80\n",
      ".95\n",
      "1.96\n",
      "484.32\n",
      "515.68\n"
     ]
    }
   ],
   "source": [
    "#Problem7 The Central Limit Theorem III\n",
    "sample_size,clt_m,clt_std,dist_p,z_value=map(float, [input() for _ in range(5)])\n",
    "m,std = clt_m,clt_std/(sample_size**0.5)\n",
    "print(round(m-z_value*std,2),round(m+z_value*std,2),sep=\"\\n\")  "
   ]
  },
  {
   "cell_type": "code",
   "execution_count": 8,
   "metadata": {},
   "outputs": [
    {
     "name": "stdout",
     "output_type": "stream",
     "text": [
      "10\n",
      "10 9.8 8 7.8 7.7 7 6 5 4 2\n",
      "200 44 32 24 22 17 15 12 8 4\n",
      "0.612\n"
     ]
    }
   ],
   "source": [
    "#Problem8 Pearson Correlation Coefficient I\n",
    "size = int(input())\n",
    "data_x = list(map(float,input().strip().split()))\n",
    "data_y = list(map(float,input().strip().split()))\n",
    "m_x = sum(data_x) / size\n",
    "m_y = sum(data_y) / size\n",
    "stdv_x = (sum([(i - m_x)**2 for i in data_x]) / size)**0.5\n",
    "stdv_y = (sum([(i - m_y)**2 for i in data_y]) / size)**0.5\n",
    "cov = sum([(data_x[i] - m_x) * (data_y[i] -m_y) for i in range(size)])\n",
    "p_cof = cov / (size * stdv_x * stdv_y)\n",
    "print(round(p_cof,3))"
   ]
  },
  {
   "cell_type": "code",
   "execution_count": 9,
   "metadata": {},
   "outputs": [
    {
     "name": "stdout",
     "output_type": "stream",
     "text": [
      "95 85\n",
      "85 95\n",
      "80 70\n",
      "70 65\n",
      "60 70\n",
      "78.288\n"
     ]
    }
   ],
   "source": [
    "#Problem9 Least Square Regression Line\n",
    "from statistics import mean, pstdev\n",
    "def p_cof(x, y):\n",
    "    n = len(x)\n",
    "    mx, sx, my, sy = mean(x), pstdev(x), mean(y), pstdev(y)\n",
    "    return sum((xi - mx) * (yi - my) for xi, yi in zip(x, y)) / (n * sx * sy)\n",
    "def l_r(x, y):\n",
    "    b = p_cof(x, y) * pstdev(y) / pstdev(x)\n",
    "    return mean(y) - b * mean(x), b\n",
    "x, y = [], []\n",
    "for _ in range(5):\n",
    "    i = input().split()\n",
    "    x.append(int(i[0]))\n",
    "    y.append(int(i[1]))\n",
    "a, b = l_r(x, y)\n",
    "x_test = 80\n",
    "y_test = a + b * x_test\n",
    "print(round(y_test,3) )"
   ]
  },
  {
   "cell_type": "code",
   "execution_count": 10,
   "metadata": {},
   "outputs": [
    {
     "name": "stdout",
     "output_type": "stream",
     "text": [
      "2 7\n",
      "0.18 0.89 109.85\n",
      "1.0 0.26 155.72\n",
      "0.92 0.11 137.66\n",
      "0.07 0.37 76.17\n",
      "0.85 0.16 139.75\n",
      "0.99 0.41 162.6\n",
      "0.87 0.47 151.77\n",
      "4\n",
      "0.49 0.18\n",
      "0.57 0.83\n",
      "0.56 0.64\n",
      "0.76 0.18\n",
      "105.21\n",
      "142.67\n",
      "132.94\n",
      "129.7\n"
     ]
    }
   ],
   "source": [
    "#Problem10 Multiple Linear Regression\n",
    "import numpy as np\n",
    "m, n = map(int, input().split()) \n",
    "list_of_lists = [list(map(float, input().split())) for _ in range(n)] \n",
    "X = np.empty((n, m+2))\n",
    "X[:, 0] = 1\n",
    "X[:, 1:] = list_of_lists\n",
    "y = X[:, -1]\n",
    "X = X[:, :-1]\n",
    "B = np.dot(np.linalg.inv(np.dot(X.T, X)), np.dot(X.T, y))\n",
    "q = int(input()) \n",
    "X = np.empty((q, m+1))\n",
    "X[:, 0] = 1\n",
    "list_of_lists = [list(map(float, input().split())) for _ in range(q)]\n",
    "X[:, 1:] = list_of_lists\n",
    "print('\\n'.join(map(str, np.round(np.dot(X, B), 2))))"
   ]
  }
 ],
 "metadata": {
  "kernelspec": {
   "display_name": "Python 3",
   "language": "python",
   "name": "python3"
  },
  "language_info": {
   "codemirror_mode": {
    "name": "ipython",
    "version": 3
   },
   "file_extension": ".py",
   "mimetype": "text/x-python",
   "name": "python",
   "nbconvert_exporter": "python",
   "pygments_lexer": "ipython3",
   "version": "3.7.6"
  }
 },
 "nbformat": 4,
 "nbformat_minor": 4
}
