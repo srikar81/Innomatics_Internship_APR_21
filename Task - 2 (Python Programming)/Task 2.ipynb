{
 "cells": [
  {
   "cell_type": "markdown",
   "metadata": {},
   "source": [
    "# Task 2"
   ]
  },
  {
   "cell_type": "code",
   "execution_count": 1,
   "metadata": {},
   "outputs": [
    {
     "name": "stdout",
     "output_type": "stream",
     "text": [
      "1\n",
      "1\n",
      "1\n",
      "2\n",
      "[[0, 0, 0], [0, 0, 1], [0, 1, 0], [1, 0, 0], [1, 1, 1]]\n"
     ]
    }
   ],
   "source": [
    "# Question1\n",
    "#List Comprehensions\n",
    "if __name__ == '__main__':\n",
    "    x = int(input())\n",
    "    y = int(input())\n",
    "    z = int(input())\n",
    "    n = int(input())\n",
    "    k=[[i,j,k] for i in range(x+1) for j in range(y+1) for k in range(z+1) if i+j+k != n]\n",
    "    print(k)\n"
   ]
  },
  {
   "cell_type": "code",
   "execution_count": 3,
   "metadata": {},
   "outputs": [
    {
     "name": "stdout",
     "output_type": "stream",
     "text": [
      "5\n",
      "2 3 6 6 5\n",
      "5\n"
     ]
    }
   ],
   "source": [
    "# Question2\n",
    "#Find the Runner-Up Score!\n",
    "if __name__ == '__main__':\n",
    "    n = int(input())\n",
    "    arr = map(int, input().split())\n",
    "    l = list(set(arr))\n",
    "    m = max(l)\n",
    "    while max(l)==m:\n",
    "        l.remove(max(l))\n",
    "    print(max(l))\n"
   ]
  },
  {
   "cell_type": "code",
   "execution_count": null,
   "metadata": {},
   "outputs": [],
   "source": [
    "# Question3\n",
    "#Nested Lists\n",
    "if __name__ == '__main__':\n",
    "    arr,s=[],[]\n",
    "    for _ in range(int(input())):\n",
    "        name = input()\n",
    "        score = float(input())\n",
    "        arr.append([name,score])\n",
    "        s.append(score)\n",
    "    s1=sorted(list(set(s)))[1]\n",
    "    k=[name for name,score in arr if score==s1]\n",
    "    k1= sorted(k)\n",
    "    for i in range(len(k1)):\n",
    "        print(k1[i])\n",
    "    \n"
   ]
  },
  {
   "cell_type": "code",
   "execution_count": null,
   "metadata": {},
   "outputs": [],
   "source": [
    "# Question4\n",
    "#Finding the percentage\n",
    "if __name__ == '__main__':\n",
    "    n = int(input())\n",
    "    student_marks = {}\n",
    "    for _ in range(n):\n",
    "        name, *line = input().split()\n",
    "        scores = list(map(float, line))\n",
    "        student_marks[name] = scores\n",
    "    query_name = input()\n",
    "    s=student_marks[query_name]\n",
    "    print(\"{:.2f}\".format(sum(s)/len(s)))\n"
   ]
  },
  {
   "cell_type": "code",
   "execution_count": null,
   "metadata": {},
   "outputs": [],
   "source": [
    "# Question5\n",
    "#Lists\n",
    "if __name__ == '__main__':\n",
    "    N = int(input())\n",
    "    list = []\n",
    "    for _ in range(N):\n",
    "        h = input().split()\n",
    "        command = h[0]\n",
    "        args = h[1:]\n",
    "        if command !=\"print\":\n",
    "            command = h[0]+ \"(\"+ \",\".join(args) +\")\"\n",
    "            eval(\"list.\"+command)\n",
    "        else:\n",
    "            print (list)\n"
   ]
  },
  {
   "cell_type": "code",
   "execution_count": null,
   "metadata": {},
   "outputs": [],
   "source": [
    "# Question6\n",
    "#Tuples\n",
    "if __name__ == '__main__':\n",
    "    n = int(input())\n",
    "    integer_list = map(int, input().split())\n",
    "    t = tuple(integer_list)\n",
    "    print(hash(t))\n"
   ]
  },
  {
   "cell_type": "code",
   "execution_count": null,
   "metadata": {},
   "outputs": [],
   "source": [
    "# Question7\n",
    "#Introduction to Sets\n",
    "def average(array):\n",
    "    return round(sum(set(arr))/len(set(arr)),3)"
   ]
  },
  {
   "cell_type": "code",
   "execution_count": null,
   "metadata": {},
   "outputs": [],
   "source": [
    "# Question8\n",
    "#No Idea!\n",
    "# Enter your code here. Read input from STDIN. Print output to STDOUT\n",
    "n, m = input().split()\n",
    "sc_ar = input().split()\n",
    "A = set(input().split())\n",
    "B = set(input().split())\n",
    "print (sum([(i in A) - (i in B) for i in sc_ar]))\n"
   ]
  },
  {
   "cell_type": "code",
   "execution_count": null,
   "metadata": {},
   "outputs": [],
   "source": [
    "# Question9\n",
    "#Symmetric Difference\n",
    "\n",
    "# Enter your code here. Read input from STDIN. Print output to STDOUT\n",
    "if __name__ == \"__main__\":\n",
    "    m = int(input())\n",
    "    a = list(map(int,input().split()))\n",
    "    a1 = set(a)\n",
    "    n = int(input())\n",
    "    b = list(map(int, input().split()))\n",
    "    b1 = set(b)\n",
    "    y = list(a1.intersection(b1))\n",
    "    z = list(b1.intersection(a1))\n",
    "    ab= a1.union(b1)\n",
    "    for i in range(len(y)):\n",
    "        ab.discard(y[i])\n",
    "    for j in range(len(z)):\n",
    "        ab.discard(z[i])\n",
    "    for i in range(len(ab)):\n",
    "        print(sorted(list(ab))[i],end=\"\\n\")\n"
   ]
  },
  {
   "cell_type": "code",
   "execution_count": null,
   "metadata": {},
   "outputs": [],
   "source": [
    "# Question10\n",
    "#Set .add()\n",
    "# Enter your code here. Read input from STDIN. Print output to STDOUT\n",
    "if __name__ == '__main__':\n",
    "    n = int(input())\n",
    "    l =[]\n",
    "    for i in range(n):\n",
    "        l.append(str(input()))\n",
    "    k=set(l)\n",
    "    print(len(k))\n"
   ]
  },
  {
   "cell_type": "code",
   "execution_count": null,
   "metadata": {},
   "outputs": [],
   "source": [
    "# Question11\n",
    "#Set .discard(), .remove() & .pop()\n",
    "n = int(input())\n",
    "s = set(map(int, input().split()))\n",
    "q = int(input())\n",
    "for _ in range(q):\n",
    "    k = input().split()\n",
    "    command = k[0]\n",
    "    args = k[1:]\n",
    "    command = k[0] + \"(\"+\",\".join(args)+\")\"\n",
    "    eval(\"s.\"+command)\n",
    "print(sum(list(s)))\n"
   ]
  },
  {
   "cell_type": "code",
   "execution_count": null,
   "metadata": {},
   "outputs": [],
   "source": [
    "# Question12\n",
    "#Set .union() Operation\n",
    "\n",
    "# Enter your code here. Read input from STDIN. Print output to STDOUT\n",
    "n = int(input())\n",
    "s = set(list(map(int,input().split())))\n",
    "k = int(input())\n",
    "p = set(list(map(int,input().split())))\n",
    "print(len(s|p))\n"
   ]
  },
  {
   "cell_type": "code",
   "execution_count": null,
   "metadata": {},
   "outputs": [],
   "source": [
    "# Question13\n",
    "#Set .intersection() Operation\n",
    "# Enter your code here. Read input from STDIN. Print output to STDOUT\n",
    "m = input()\n",
    "n = set(list(map(int,input().split())))\n",
    "o = input()\n",
    "p = set(list(map(int,input().split())))\n",
    "print(len(n&p))\n"
   ]
  },
  {
   "cell_type": "code",
   "execution_count": null,
   "metadata": {},
   "outputs": [],
   "source": [
    "# Question14\n",
    "#Set .difference() Operation\n",
    "# Enter your code here. Read input from STDIN. Print output to STDOUT\n",
    "m = input()\n",
    "n = set(list(map(int, input().split())))\n",
    "o = input()\n",
    "p = set(list(map(int, input().split())))\n",
    "print(len(n-p))\n"
   ]
  },
  {
   "cell_type": "code",
   "execution_count": null,
   "metadata": {},
   "outputs": [],
   "source": [
    "# Question15\n",
    "#Set .symmetric_difference() Operation\n",
    "# Enter your code here. Read input from STDIN. Print output to STDOUT\n",
    "m = input()\n",
    "n = set(list(map(int, input().split())))\n",
    "o = input()\n",
    "p = set(list(map(int, input().split())))\n",
    "print(len(n^p))\n"
   ]
  },
  {
   "cell_type": "code",
   "execution_count": null,
   "metadata": {},
   "outputs": [],
   "source": [
    "# Question16\n",
    "#Set Mutations\n",
    "# Enter your code here. Read input from STDIN. Print output to STDOUT\n",
    "if __name__ == '__main__':\n",
    "    (_, A) = (int(input()),set(map(int, input().split())))\n",
    "    B = int(input())\n",
    "    for _ in range(B):\n",
    "        (cmd, newSet) = (input().split()[0],set(map(int, input().split())))\n",
    "        getattr(A, cmd)(newSet)\n",
    "\n",
    "    print (sum(A))\n"
   ]
  },
  {
   "cell_type": "code",
   "execution_count": null,
   "metadata": {},
   "outputs": [],
   "source": [
    "# Question17\n",
    "#The Captain's Room\n",
    "# Enter your code here. Read input from STDIN. Print output to STDOUT\n",
    "k,arr = int(input()),list(map(int, input().split()))\n",
    "myset = set(arr)\n",
    "print(((sum(myset)*k)-(sum(arr)))//(k-1))\n"
   ]
  },
  {
   "cell_type": "code",
   "execution_count": null,
   "metadata": {},
   "outputs": [],
   "source": [
    "# Question18\n",
    "#Check Subset\n",
    "# Enter your code here. Read input from STDIN. Print output to STDOUT\n",
    "for _ in range(int(input())):\n",
    "    x, a, z, b = input(), set(input().split()), input(), set(input().split())\n",
    "    print(a.issubset(b))\n"
   ]
  },
  {
   "cell_type": "code",
   "execution_count": null,
   "metadata": {},
   "outputs": [],
   "source": [
    "# Question19\n",
    "#Check Strict Superset\n",
    "# Enter your code here. Read input from STDIN. Print output to STDOUT\n",
    "a = set(input().split())\n",
    "counter , n = 0, int(input())\n",
    "for i in range (n):\n",
    "        b = set(input().split())\n",
    "        if a.issuperset(b) :\n",
    "                counter += 1\n",
    "print(counter == n)\n"
   ]
  }
 ],
 "metadata": {
  "kernelspec": {
   "display_name": "Python 3",
   "language": "python",
   "name": "python3"
  },
  "language_info": {
   "codemirror_mode": {
    "name": "ipython",
    "version": 3
   },
   "file_extension": ".py",
   "mimetype": "text/x-python",
   "name": "python",
   "nbconvert_exporter": "python",
   "pygments_lexer": "ipython3",
   "version": "3.7.6"
  }
 },
 "nbformat": 4,
 "nbformat_minor": 4
}
